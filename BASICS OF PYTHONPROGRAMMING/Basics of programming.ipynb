{
 "cells": [
  {
   "cell_type": "markdown",
   "metadata": {},
   "source": [
    "**Introduction to python programming**"
   ]
  },
  {
   "cell_type": "code",
   "execution_count": 7,
   "metadata": {},
   "outputs": [],
   "source": [
    "# Variable Assignment\n",
    "\n",
    "Number=100\n",
    "Number1 =100.20\n",
    "str='Hello World'\n",
    "\n",
    "num ='1234'\n",
    "\n",
    "num1 , num2 , num3 = 10, 20, 30\n",
    "\n",
    "\n"
   ]
  },
  {
   "cell_type": "code",
   "execution_count": 8,
   "metadata": {},
   "outputs": [
    {
     "name": "stdout",
     "output_type": "stream",
     "text": [
      "100\n"
     ]
    }
   ],
   "source": [
    "print(Number)"
   ]
  },
  {
   "cell_type": "code",
   "execution_count": 9,
   "metadata": {},
   "outputs": [
    {
     "name": "stdout",
     "output_type": "stream",
     "text": [
      "<class 'int'>\n"
     ]
    }
   ],
   "source": [
    "print(type(Number))"
   ]
  },
  {
   "cell_type": "code",
   "execution_count": null,
   "metadata": {},
   "outputs": [
    {
     "name": "stdout",
     "output_type": "stream",
     "text": [
      "<class 'int'>\n",
      "<class 'float'>\n",
      "<class 'str'>\n"
     ]
    }
   ],
   "source": [
    "print(type(Number))\n",
    "print(type(Number1))\n",
    "print(type (str))\n",
    "\n"
   ]
  },
  {
   "cell_type": "code",
   "execution_count": 11,
   "metadata": {},
   "outputs": [],
   "source": [
    "num1 ,num2 ,num3,_ =100,200,300,400\n"
   ]
  },
  {
   "cell_type": "code",
   "execution_count": 12,
   "metadata": {},
   "outputs": [
    {
     "name": "stdout",
     "output_type": "stream",
     "text": [
      "the variable name number is 100\n"
     ]
    }
   ],
   "source": [
    "print('the variable name number is',Number )"
   ]
  },
  {
   "cell_type": "code",
   "execution_count": 13,
   "metadata": {},
   "outputs": [
    {
     "name": "stdout",
     "output_type": "stream",
     "text": [
      "addition of Number1 and Number2 is  3000\n"
     ]
    }
   ],
   "source": [
    "Number1=1000\n",
    "Number2=2000\n",
    "Number3=Number1 + Number2\n",
    "\n",
    "print('addition of Number1 and Number2 is ',Number3)"
   ]
  },
  {
   "cell_type": "code",
   "execution_count": 14,
   "metadata": {},
   "outputs": [
    {
     "name": "stdout",
     "output_type": "stream",
     "text": [
      "substraction of Number1 and Number2 is  -1000\n"
     ]
    }
   ],
   "source": [
    "Number1=1000\n",
    "Number2=2000\n",
    "Number3=Number1 - Number2\n",
    "\n",
    "print('substraction of Number1 and Number2 is ',Number3)"
   ]
  },
  {
   "cell_type": "code",
   "execution_count": 16,
   "metadata": {},
   "outputs": [
    {
     "name": "stdout",
     "output_type": "stream",
     "text": [
      "Division of Number1 and Number2 is  2.0\n"
     ]
    }
   ],
   "source": [
    "Number1=1000\n",
    "Number2=2000\n",
    "Number3=Number2 / Number1\n",
    "\n",
    "print('Division of Number1 and Number2 is ',Number3)"
   ]
  },
  {
   "cell_type": "code",
   "execution_count": 15,
   "metadata": {},
   "outputs": [
    {
     "name": "stdout",
     "output_type": "stream",
     "text": [
      "Multiplication of Number1 and Number2 is  2000000\n"
     ]
    }
   ],
   "source": [
    "Number1=1000\n",
    "Number2=2000\n",
    "Number3=Number1 * Number2\n",
    "\n",
    "print('Multiplication of Number1 and Number2 is ',Number3)"
   ]
  },
  {
   "cell_type": "code",
   "execution_count": 17,
   "metadata": {},
   "outputs": [
    {
     "name": "stdout",
     "output_type": "stream",
     "text": [
      "Division of Number1 and Number2 is  2\n"
     ]
    }
   ],
   "source": [
    "#Floor Division\n",
    "Number1=1000\n",
    "Number2=2000\n",
    "Number3=Number2 // Number1\n",
    "\n",
    "print('Division of Number1 and Number2 is ',Number3)"
   ]
  },
  {
   "cell_type": "code",
   "execution_count": 23,
   "metadata": {},
   "outputs": [
    {
     "name": "stdout",
     "output_type": "stream",
     "text": [
      "addition of num and num1 12341234\n"
     ]
    }
   ],
   "source": [
    "num=2\n",
    "num1='1234'\n",
    "print('addition of num and num1',(num * num1))"
   ]
  }
 ],
 "metadata": {
  "kernelspec": {
   "display_name": "base",
   "language": "python",
   "name": "python3"
  },
  "language_info": {
   "codemirror_mode": {
    "name": "ipython",
    "version": 3
   },
   "file_extension": ".py",
   "mimetype": "text/x-python",
   "name": "python",
   "nbconvert_exporter": "python",
   "pygments_lexer": "ipython3",
   "version": "3.12.7"
  }
 },
 "nbformat": 4,
 "nbformat_minor": 2
}
